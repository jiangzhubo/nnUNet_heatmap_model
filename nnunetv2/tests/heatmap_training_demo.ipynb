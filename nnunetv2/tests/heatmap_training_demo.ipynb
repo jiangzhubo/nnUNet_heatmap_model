{
 "cells": [
  {
   "cell_type": "markdown",
   "id": "443bbacb",
   "metadata": {},
   "source": [
    "# Heatmap Training Demo\n",
    "This notebook demonstrates how to generate a dummy dataset, train the model, and verify that the model outputs both segmentation masks and a regression heatmap."
   ]
  },
  {
   "cell_type": "code",
   "execution_count": null,
   "id": "1e1ef1e6",
   "metadata": {},
   "outputs": [],
   "source": [
    "from nnunetv2.tests.generate_dummy_heatmap_dataset import generate_dataset\n",
    "from nnunetv2.tests.dummy_heatmap_training import get_loader, TinyNet, train_one_epoch, validate\n",
    "from nnunetv2.training.network_wrappers.heatmap_wrapper import SegmentationHeatmapWrapper\n",
    "import os, torch\n",
    "\n",
    "data_folder = os.path.join(os.path.dirname(\"nnunetv2/tests/dummy_heatmap_training.py\"), \"dummy_heatmap_dataset\")\n",
    "if not os.path.isdir(data_folder):\n",
    "    generate_dataset(data_folder)\n",
    "loader = get_loader(data_folder)\n",
    "device = torch.device(\"cuda\" if torch.cuda.is_available() else \"cpu\")\n",
    "net = SegmentationHeatmapWrapper(TinyNet()).to(device)\n"
   ]
  },
  {
   "cell_type": "code",
   "execution_count": null,
   "id": "12ed55fa",
   "metadata": {},
   "outputs": [],
   "source": [
    "train_loss = train_one_epoch(net, loader, device)\n",
    "val_loss = validate(net, loader, device)\n",
    "print('train loss:', train_loss, 'val loss:', val_loss)"
   ]
  },
  {
   "cell_type": "code",
   "execution_count": null,
   "id": "34eed3dd",
   "metadata": {},
   "outputs": [],
   "source": [
    "batch = next(loader)\n",
    "x = torch.as_tensor(batch[\"data\"]).to(device)\n",
    "out = net(x)\n",
    "print('output shape:', out.shape)\n",
    "print('segmentation head shape:', out[:, :2].shape)\n",
    "print('heatmap head shape:', out[:, 2:].shape)"
   ]
  }
 ],
 "metadata": {},
 "nbformat": 4,
 "nbformat_minor": 5
}
